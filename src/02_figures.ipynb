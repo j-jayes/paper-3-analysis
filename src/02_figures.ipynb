{
 "cells": [
  {
   "cell_type": "markdown",
   "metadata": {},
   "source": [
    "# Figures\n",
    "\n",
    "A workbook to make some quick figures before I tidy them up"
   ]
  },
  {
   "cell_type": "code",
   "execution_count": null,
   "metadata": {},
   "outputs": [],
   "source": [
    "import pandas as pd\n",
    "import pathlib\n",
    "import numpy as np\n",
    "\n",
    "root = pathlib.Path.cwd().parent\n",
    "\n",
    "# read in the parquet file\n",
    "df_census_1930 = pd.read_parquet(root / \"data/census/census_1930.parquet\")"
   ]
  }
 ],
 "metadata": {
  "language_info": {
   "name": "python"
  }
 },
 "nbformat": 4,
 "nbformat_minor": 2
}
