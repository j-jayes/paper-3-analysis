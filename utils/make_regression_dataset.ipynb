{
 "cells": [
  {
   "cell_type": "code",
   "execution_count": 17,
   "metadata": {},
   "outputs": [],
   "source": [
    "import pandas as pd\n",
    "import pathlib\n",
    "import numpy as np\n",
    "\n",
    "root = pathlib.Path.cwd().parent"
   ]
  },
  {
   "cell_type": "code",
   "execution_count": 5,
   "metadata": {},
   "outputs": [],
   "source": [
    "\n",
    "df_census_1930 = pd.read_parquet(root / \"data/census/df_ref.parquet\")\n",
    "df_census_1930 = df_census_1930.rename(columns={'arkbild': 'name', 'scbkod': 'ref_code'})\n"
   ]
  },
  {
   "cell_type": "code",
   "execution_count": 6,
   "metadata": {},
   "outputs": [
    {
     "data": {
      "text/plain": [
       "Index(['id', 'frnr', 'lannr', 'forsnr', 'pnr', 'abnr', 'name', 'kontrakt',\n",
       "       'ref_code', 'lan',\n",
       "       ...\n",
       "       'hisco_code', 'hisclass_code', 'female', 'hisclass_code_abb',\n",
       "       'hisclass_group_abb', 'schooling', 'schooling_abb',\n",
       "       'income_imputed_median', 'income_imputed_mean', 'income_incl_zero'],\n",
       "      dtype='object', length=111)"
      ]
     },
     "execution_count": 6,
     "metadata": {},
     "output_type": "execute_result"
    }
   ],
   "source": [
    "df_census_1930.columns"
   ]
  },
  {
   "cell_type": "code",
   "execution_count": 18,
   "metadata": {},
   "outputs": [],
   "source": [
    "# generate log_income_incl_zero from income_incl_zero\n",
    "df_census_1930['log_income_incl_zero'] = df_census_1930['income_incl_zero'].apply(lambda x: np.log(x+1))"
   ]
  },
  {
   "cell_type": "code",
   "execution_count": 21,
   "metadata": {},
   "outputs": [],
   "source": [
    "# impute income_incl_zero by calculating the mean of the income_incl_zero for each ref_code and hisclass_code_abb\n",
    "\n",
    "df_census_1930['log_income_imputed_mean'] = df_census_1930.groupby(['ref_code', 'hisclass_code_abb'])['log_income_incl_zero'].transform(lambda x: x.fillna(x.mean()))\n",
    "\n",
    "df_census_1930['log_income_imputed_median'] = df_census_1930.groupby(['ref_code', 'hisclass_code_abb'])['log_income_incl_zero'].transform(lambda x: x.fillna(x.median()))\n"
   ]
  },
  {
   "cell_type": "code",
   "execution_count": 22,
   "metadata": {},
   "outputs": [],
   "source": [
    "\n",
    "# replace log_income_imputed_mean with NaN if log_income_imputed_mean == 0\n",
    "df_census_1930['log_income_imputed_mean'] = df_census_1930['log_income_imputed_mean'].replace(0, np.nan)\n",
    "# same for median\n",
    "df_census_1930['log_income_imputed_median'] = df_census_1930['log_income_imputed_median'].replace(0, np.nan)"
   ]
  },
  {
   "cell_type": "code",
   "execution_count": null,
   "metadata": {},
   "outputs": [],
   "source": [
    "# variables to create\n",
    "\n",
    "# parish population density 1930\n"
   ]
  },
  {
   "cell_type": "code",
   "execution_count": null,
   "metadata": {},
   "outputs": [],
   "source": [
    "# export the variables that we care about as a Stata file, compressed if possible\n",
    "\n",
    "# list of variables is here:\n",
    "\n",
    "income_variables = [\"log_income_incl_zero\", \"log_income_imputed_mean\", \"log_income_imputed_median\"]\n",
    "\n",
    "location_variables\n",
    "\n",
    "variables_to_keep = ['id', 'ref_code', 'hisclass_code_abb', 'log_income_incl_zero', 'log_income_imputed_mean', 'log_income_imputed_median']"
   ]
  }
 ],
 "metadata": {
  "kernelspec": {
   "display_name": ".venv",
   "language": "python",
   "name": "python3"
  },
  "language_info": {
   "codemirror_mode": {
    "name": "ipython",
    "version": 3
   },
   "file_extension": ".py",
   "mimetype": "text/x-python",
   "name": "python",
   "nbconvert_exporter": "python",
   "pygments_lexer": "ipython3",
   "version": "3.9.7"
  },
  "orig_nbformat": 4
 },
 "nbformat": 4,
 "nbformat_minor": 2
}
