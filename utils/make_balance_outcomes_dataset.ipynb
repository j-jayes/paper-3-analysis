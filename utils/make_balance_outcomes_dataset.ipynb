{
 "cells": [
  {
   "cell_type": "markdown",
   "metadata": {},
   "source": [
    "## Purpose\n",
    "\n",
    "Make the dataset that we can use to get the balance outcomes for the balance tests"
   ]
  },
  {
   "cell_type": "code",
   "execution_count": 1,
   "metadata": {},
   "outputs": [],
   "source": [
    "# parameters:\n",
    "# age_lower_bound: lower bound of age range\n",
    "# age_upper_bound: upper bound of age range\n",
    "# distance_from_line: distance from central line\n",
    "\n",
    "age_lower_bound = 15\n",
    "age_upper_bound = 45\n",
    "distance_from_line = 300"
   ]
  },
  {
   "cell_type": "code",
   "execution_count": 2,
   "metadata": {},
   "outputs": [],
   "source": [
    "import pandas as pd\n",
    "import pathlib\n",
    "import numpy as np\n",
    "\n",
    "root = pathlib.Path.cwd().parent"
   ]
  },
  {
   "cell_type": "code",
   "execution_count": 3,
   "metadata": {},
   "outputs": [],
   "source": [
    "# read in census data\n",
    "df_census_1930 = pd.read_parquet(root / \"data/census/df_ref.parquet\")\n",
    "df_census_1930 = df_census_1930.rename(columns={'arkbild': 'name', 'scbkod': 'ref_code', 'fscbkod': 'ref_code_birth_parish'})"
   ]
  },
  {
   "cell_type": "code",
   "execution_count": 4,
   "metadata": {},
   "outputs": [],
   "source": [
    "# convert ref_code_birth_parish from dtype: object to int\n",
    "df_census_1930['ref_code_birth_parish'] = pd.to_numeric(df_census_1930['ref_code_birth_parish'], errors='coerce').astype('Int64')\n",
    "# convert ref_code from dtype: object to int\n",
    "df_census_1930['ref_code'] = pd.to_numeric(df_census_1930['ref_code'], errors='coerce').astype('Int64')"
   ]
  },
  {
   "cell_type": "markdown",
   "metadata": {},
   "source": [
    "## Created treated variable\n",
    "\n",
    "This means your parish of birth code is in the treated group"
   ]
  },
  {
   "cell_type": "code",
   "execution_count": null,
   "metadata": {},
   "outputs": [],
   "source": [
    "# read in crosswalk to geom_id to get treatment from first-stage dataset\n",
    "crosswalk_df = pd.read_excel(root / \"data/parishes/1930_census_map_merged_data.xlsx\")\n",
    "# rename ref_code to ref_code_birth_parish to match census data\n",
    "crosswalk_df = crosswalk_df.rename(columns={'ref_code': 'ref_code_birth_parish'})\n",
    "# join the crosswalk with the census data\n",
    "df_census_1930 = df_census_1930.merge(crosswalk_df, on='ref_code_birth_parish', how='left')\n",
    "# this will leave us with geom_id as the variable on which to join to the first-stage dataset"
   ]
  },
  {
   "cell_type": "code",
   "execution_count": null,
   "metadata": {},
   "outputs": [],
   "source": [
    "# read in the first-stage dataset\n",
    "first_stage = pd.read_excel(root / \"data/first-stage/parish-level-power-station-data-vf.xlsx\")\n",
    "first_stage[\"geom_id\"].value_counts()"
   ]
  },
  {
   "cell_type": "code",
   "execution_count": null,
   "metadata": {},
   "outputs": [],
   "source": [
    "# read in the first-stage dataset\n",
    "first_stage = pd.read_excel(root / \"data/first-stage/parish-level-power-station-data-vf.xlsx\")\n",
    "# keep treatment and geom_id\n",
    "first_stage = first_stage[['treated', 'geom_id']]\n",
    "# rename treated to electricity_parish_born\n",
    "first_stage = first_stage.rename(columns={'treated': 'electricity_parish_born'})\n",
    "\n",
    "# this leaves us with the variable of interest and the geom_id to join on\n",
    "first_stage[\"electricity_parish_born\"].value_counts(dropna=False)"
   ]
  },
  {
   "cell_type": "code",
   "execution_count": null,
   "metadata": {},
   "outputs": [],
   "source": [
    "# drop column electricity_parish_born from df_census_1930\n",
    "df_census_1930 = df_census_1930.drop(columns=['electricity_parish_born'])\n",
    "# join df_census_1930 and first_stage by geom_id\n",
    "df_census_1930 = df_census_1930.merge(first_stage, on='geom_id', how='left')"
   ]
  },
  {
   "cell_type": "code",
   "execution_count": null,
   "metadata": {},
   "outputs": [],
   "source": [
    "# fill NaNs in electricity_parish_born with 0\n",
    "df_census_1930[\"electricity_parish_born\"] = df_census_1930[\"electricity_parish_born\"].fillna(0)"
   ]
  },
  {
   "cell_type": "markdown",
   "metadata": {},
   "source": [
    "Now for electricity parish living"
   ]
  },
  {
   "cell_type": "code",
   "execution_count": null,
   "metadata": {},
   "outputs": [],
   "source": [
    "# read in crosswalk to geom_id to get treatment from first-stage dataset\n",
    "crosswalk_df = pd.read_excel(root / \"data/parishes/1930_census_map_merged_data.xlsx\")\n",
    "# rename ref_code to ref_code_birth_parish to match census data\n",
    "crosswalk_df = crosswalk_df.rename(columns={'ref_code': 'ref_code'})\n",
    "# drop geom_id from census data\n",
    "df_census_1930 = df_census_1930.drop(columns=['geom_id'])\n",
    "# join the crosswalk with the census data\n",
    "df_census_1930 = df_census_1930.merge(crosswalk_df, on='ref_code', how='left')"
   ]
  },
  {
   "cell_type": "code",
   "execution_count": null,
   "metadata": {},
   "outputs": [],
   "source": [
    "# read in the first-stage dataset\n",
    "first_stage = pd.read_excel(root / \"data/first-stage/parish-level-power-station-data-vf.xlsx\")\n",
    "# keep treatment and geom_id\n",
    "first_stage = first_stage[['treated', 'geom_id']]\n",
    "# rename treated to electricity_parish_born\n",
    "first_stage = first_stage.rename(columns={'treated': 'electricity_parish_living_in'})"
   ]
  },
  {
   "cell_type": "code",
   "execution_count": null,
   "metadata": {},
   "outputs": [],
   "source": [
    "# drop column electricity_parish_living from df_census_1930 and geom_id\n",
    "df_census_1930 = df_census_1930.drop(columns=['electricity_parish_living_in'])\n"
   ]
  },
  {
   "cell_type": "code",
   "execution_count": null,
   "metadata": {},
   "outputs": [],
   "source": [
    "df_census_1930[\"\"]"
   ]
  },
  {
   "cell_type": "code",
   "execution_count": null,
   "metadata": {},
   "outputs": [],
   "source": [
    "# join df_census_1930 and first_stage by geom_id\n",
    "df_census_1930 = df_census_1930.merge(first_stage, on='geom_id', how='left')"
   ]
  },
  {
   "cell_type": "markdown",
   "metadata": {},
   "source": [
    "Create income variables"
   ]
  },
  {
   "cell_type": "code",
   "execution_count": null,
   "metadata": {},
   "outputs": [],
   "source": [
    "# generate log_income_incl_zero from income_incl_zero\n",
    "df_census_1930['log_income_incl_zero'] = df_census_1930['income_incl_zero'].apply(lambda x: np.log(x+1))"
   ]
  },
  {
   "cell_type": "code",
   "execution_count": null,
   "metadata": {},
   "outputs": [],
   "source": [
    "# impute income_incl_zero_imputed_mean by grouping by hisco_code and parish and taking the mean of income_incl_zero\n",
    "df_census_1930['income_incl_zero_imputed_mean'] = df_census_1930.groupby(['hisco_code', 'ref_code'])['income_incl_zero'].transform('mean')\n",
    "# now do the same for median\n",
    "df_census_1930['income_incl_zero_imputed_median'] = df_census_1930.groupby(['hisco_code', 'ref_code'])['income_incl_zero'].transform('median')"
   ]
  },
  {
   "cell_type": "code",
   "execution_count": null,
   "metadata": {},
   "outputs": [],
   "source": [
    "# print the average of income_incl_zero by treated\n",
    "print(df_census_1930.groupby('treated')['income_incl_zero'].mean())"
   ]
  },
  {
   "cell_type": "code",
   "execution_count": null,
   "metadata": {},
   "outputs": [],
   "source": [
    "# print the average of the two imputed values by grouping by treated\n",
    "print(df_census_1930.groupby('treated')[['income_incl_zero_imputed_mean', 'income_incl_zero_imputed_median']].mean())"
   ]
  },
  {
   "cell_type": "code",
   "execution_count": null,
   "metadata": {},
   "outputs": [],
   "source": [
    "# impute income_incl_zero by calculating the mean of the income_incl_zero for each ref_code and hisclass_code_abb\n",
    "\n",
    "df_census_1930['log_income_imputed_mean'] = df_census_1930.groupby(['ref_code', 'hisco_code'])['log_income_incl_zero'].transform(lambda x: x.fillna(x.mean()))\n",
    "\n",
    "df_census_1930['log_income_imputed_median'] = df_census_1930.groupby(['ref_code', 'hisco_code'])['log_income_incl_zero'].transform(lambda x: x.fillna(x.median()))\n"
   ]
  },
  {
   "cell_type": "code",
   "execution_count": null,
   "metadata": {},
   "outputs": [],
   "source": [
    "\n",
    "# replace log_income_imputed_mean with NaN if log_income_imputed_mean == 0\n",
    "df_census_1930['log_income_imputed_mean'] = df_census_1930['log_income_imputed_mean'].replace(0, np.nan)\n",
    "# same for median\n",
    "df_census_1930['log_income_imputed_median'] = df_census_1930['log_income_imputed_median'].replace(0, np.nan)"
   ]
  },
  {
   "cell_type": "markdown",
   "metadata": {},
   "source": [
    "## Checks"
   ]
  },
  {
   "cell_type": "code",
   "execution_count": null,
   "metadata": {},
   "outputs": [],
   "source": [
    "# group by treated and print the mean of log_income_imputed_mean\n",
    "print(df_census_1930.groupby('treated')['log_income_incl_zero'].mean())\n"
   ]
  },
  {
   "cell_type": "code",
   "execution_count": null,
   "metadata": {},
   "outputs": [],
   "source": [
    "# replace log_income_incl_zero with NaN if it equals 0\n",
    "df_census_1930['log_income_incl_zero'] = df_census_1930['log_income_incl_zero'].replace(0, np.nan)"
   ]
  },
  {
   "cell_type": "code",
   "execution_count": null,
   "metadata": {},
   "outputs": [],
   "source": []
  },
  {
   "cell_type": "markdown",
   "metadata": {},
   "source": [
    "## Create indicators for electricity parish born and electricity parish living"
   ]
  },
  {
   "cell_type": "code",
   "execution_count": null,
   "metadata": {},
   "outputs": [],
   "source": [
    "df_census_1930[\"fscbkod\"]"
   ]
  },
  {
   "cell_type": "markdown",
   "metadata": {},
   "source": [
    "## Filters"
   ]
  },
  {
   "cell_type": "code",
   "execution_count": null,
   "metadata": {},
   "outputs": [],
   "source": [
    "# "
   ]
  },
  {
   "cell_type": "code",
   "execution_count": null,
   "metadata": {},
   "outputs": [],
   "source": [
    "# write out head(10) to excel to check if it worked into data/temp\n",
    "df_census_1930.head(10).to_excel(root / \"data/temp/df_census_1930_check.xlsx\")"
   ]
  },
  {
   "cell_type": "code",
   "execution_count": null,
   "metadata": {},
   "outputs": [],
   "source": [
    "\n",
    "# count share of NaNs in formogh in the dataset\n",
    "df_census_1930['formogh'].isna().sum() / len(df_census_1930['formogh'])"
   ]
  },
  {
   "cell_type": "code",
   "execution_count": null,
   "metadata": {},
   "outputs": [],
   "source": [
    "# export the variables that we care about as a Stata file, compressed if possible\n",
    "\n",
    "# list of variables is here:\n",
    "\n",
    "income_variables = [\"log_income_incl_zero\", \"log_income_imputed_mean\", \"log_income_imputed_median\"]\n",
    "\n",
    "location_variables\n",
    "\n",
    "variables_to_keep = ['id', 'ref_code', 'hisclass_code_abb', 'log_income_incl_zero', 'log_income_imputed_mean', 'log_income_imputed_median']"
   ]
  }
 ],
 "metadata": {
  "kernelspec": {
   "display_name": ".venv",
   "language": "python",
   "name": "python3"
  },
  "language_info": {
   "codemirror_mode": {
    "name": "ipython",
    "version": 3
   },
   "file_extension": ".py",
   "mimetype": "text/x-python",
   "name": "python",
   "nbconvert_exporter": "python",
   "pygments_lexer": "ipython3",
   "version": "3.9.7"
  },
  "orig_nbformat": 4
 },
 "nbformat": 4,
 "nbformat_minor": 2
}
