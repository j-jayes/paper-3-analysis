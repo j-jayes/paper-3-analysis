{
 "cells": [
  {
   "cell_type": "markdown",
   "metadata": {},
   "source": [
    "## Purpose\n",
    "\n",
    "Export dataset from parquet to csv that I can use in Stata\n",
    "\n",
    "I want: 1 row per person, with all the variables I need for my analysis\n",
    "\n",
    "The variables are:\n",
    "\n",
    "Outcome variables:\n",
    "- `log_income`\n",
    "- `log_wealth`\n",
    "- `type_of_job_held`\n",
    "\n",
    "Control variables\n",
    "- `age`\n",
    "- `gender`\n",
    "- `HISCLASS`\n",
    "- `Schooling`\n",
    "- `MaritalStatus`\n",
    "\n",
    "Inclusion variables\n",
    "- `distance_from_parish_to_line`\n",
    "- `touching_treated_parish`\n"
   ]
  },
  {
   "cell_type": "markdown",
   "metadata": {},
   "source": [
    "## So what do I need to do to construct these variables?\n",
    "\n"
   ]
  },
  {
   "cell_type": "markdown",
   "metadata": {},
   "source": [
    "Read in data"
   ]
  },
  {
   "cell_type": "code",
   "execution_count": 1,
   "metadata": {},
   "outputs": [],
   "source": [
    "import pandas as pd\n",
    "import pathlib\n",
    "import numpy as np\n",
    "\n",
    "root = pathlib.Path.cwd().parent"
   ]
  },
  {
   "cell_type": "code",
   "execution_count": 2,
   "metadata": {},
   "outputs": [],
   "source": [
    "# read in census data\n",
    "df_census_1930 = pd.read_parquet(root / \"data/census/df_ref.parquet\")\n",
    "df_census_1930 = df_census_1930.rename(columns={'arkbild': 'name', 'scbkod': 'ref_code', 'fscbkod': 'ref_code_birth_parish'})"
   ]
  },
  {
   "cell_type": "code",
   "execution_count": null,
   "metadata": {},
   "outputs": [],
   "source": []
  },
  {
   "cell_type": "code",
   "execution_count": 3,
   "metadata": {},
   "outputs": [
    {
     "name": "stdout",
     "output_type": "stream",
     "text": [
      "Columns containing 'yrke':\n",
      "['yrke.x', 'biyrke', 'yrke25', 'yrke.y']\n"
     ]
    }
   ],
   "source": [
    "# string detect \"yrke\" in col names df_census_1930?\n",
    "# detect \"yrke\" in column names of df_census_1930\n",
    "yrke_cols = [col for col in df_census_1930.columns if \"yrke\" in col]\n",
    "\n",
    "if yrke_cols:\n",
    "    print(\"Columns containing 'yrke':\")\n",
    "    print(yrke_cols)\n",
    "else:\n",
    "    print(\"No columns containing 'yrke' found.\")"
   ]
  },
  {
   "cell_type": "code",
   "execution_count": 4,
   "metadata": {},
   "outputs": [
    {
     "name": "stdout",
     "output_type": "stream",
     "text": [
      "Columns containing 'yrke':\n",
      "['income_imputed_median', 'income_imputed_mean', 'income_incl_zero']\n"
     ]
    }
   ],
   "source": [
    "# string detect \"yrke\" in col names df_census_1930?\n",
    "# detect \"yrke\" in column names of df_census_1930\n",
    "yrke_cols = [col for col in df_census_1930.columns if \"income\" in col]\n",
    "\n",
    "if yrke_cols:\n",
    "    print(\"Columns containing 'income':\")\n",
    "    print(yrke_cols)\n",
    "else:\n",
    "    print(\"No columns containing 'income' found.\")"
   ]
  }
 ],
 "metadata": {
  "kernelspec": {
   "display_name": ".venv",
   "language": "python",
   "name": "python3"
  },
  "language_info": {
   "codemirror_mode": {
    "name": "ipython",
    "version": 3
   },
   "file_extension": ".py",
   "mimetype": "text/x-python",
   "name": "python",
   "nbconvert_exporter": "python",
   "pygments_lexer": "ipython3",
   "version": "3.9.7"
  },
  "orig_nbformat": 4
 },
 "nbformat": 4,
 "nbformat_minor": 2
}
